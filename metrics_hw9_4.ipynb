{
 "cells": [
  {
   "cell_type": "code",
   "execution_count": 35,
   "metadata": {
    "scrolled": true
   },
   "outputs": [],
   "source": [
    "import numpy as np\n",
    "import pandas as pd\n",
    "from scipy.stats import norm, chi2\n",
    "\n",
    "# import the table, rename columns\n",
    "col=['TC', 'Q', 'PL', 'PK', 'PF']\n",
    "df=pd.read_table('Nerlove1963.txt', header=None, names=col)\n",
    "\n",
    "# create a column for constant 1\n",
    "df['one']=np.ones(df.shape[0])\n",
    "# get the log\n",
    "for co in col:\n",
    "    df['log_'+co]=df.apply(lambda row: np.log(row[co]), axis=1)\n",
    "cols=np.append(['log_'+co for co in col[1:]], 'one')\n",
    "\n",
    "# calculate OLS estimator\n",
    "X=df[cols]\n",
    "y=df['log_TC']\n",
    "beta=np.dot(\n",
    "    np.linalg.inv(np.dot(X.T, X)), \n",
    "    np.dot(X.T, y))\n",
    "\n",
    "# get residual and its square\n",
    "def get_e_hat(row):\n",
    "    return row['log_TC']-np.dot(row[cols].T, beta)\n",
    "df['res']=df.apply(get_e_hat, axis=1)\n",
    "df['e_hat_sqr']=df['res']**2\n",
    "\n",
    "# calculate std_error by white\n",
    "e_e=np.diag(df['e_hat_sqr'])\n",
    "left=np.linalg.inv(np.dot(X.T, X))\n",
    "mid=np.dot(np.dot(X.T, e_e), X)\n",
    "right=left\n",
    "White=np.dot(np.dot(left, mid), right)\n",
    "std_err_white=[np.sqrt(White[i][i]) for i in range(X.shape[1])]"
   ]
  },
  {
   "cell_type": "code",
   "execution_count": 36,
   "metadata": {},
   "outputs": [
    {
     "name": "stdout",
     "output_type": "stream",
     "text": [
      "beta: [ 0.72039408  0.4363412  -0.21988835  0.42651695 -3.52650284] \n",
      "std_err: [0.032030570179413166, 0.24136354235687732, 0.31818018431970413, 0.074169868207054054, 1.6887096637897276]\n"
     ]
    }
   ],
   "source": [
    "# a)\n",
    "print('beta:',beta, '\\n'\n",
    "      'std_err:',std_err_white)"
   ]
  },
  {
   "cell_type": "code",
   "execution_count": 30,
   "metadata": {},
   "outputs": [
    {
     "name": "stdout",
     "output_type": "stream",
     "text": [
      "beta_emd: [ 0.72019085  0.58051965  0.00921904  0.41026131 -4.74464602] \n",
      "std_err_emd: [0.031870909043272021, 0.24517983157769277, 0.31666165203255781, 0.074861333392265542, 1.6706552822372391]\n"
     ]
    }
   ],
   "source": [
    "#  d)\n",
    "R=np.array([0,1,1,1,0]).T\n",
    "left=np.dot(White,R)\n",
    "mid=(np.dot(np.dot(R.T, White), R))**-1\n",
    "right=np.dot(R.T, beta)-1\n",
    "temp=np.dot(np.dot(left, mid), right)\n",
    "beta_emd=beta-temp\n",
    "\n",
    "# get residual and its square\n",
    "def get_e_hat_new(row):\n",
    "    return row['log_TC']-np.dot(np.transpose(row[cols]), beta_emd)\n",
    "df['res_new']=df.apply(get_e_hat_new, axis=1)\n",
    "df['e_hat_sqr_new']=df['res_new']**2\n",
    "\n",
    "# calculate std_error by white\n",
    "e_e=np.diag(df['e_hat_sqr_new'])\n",
    "left_new=np.linalg.inv(np.dot(X.T, X))\n",
    "mid_new=np.dot(np.dot(X.T, e_e), X)\n",
    "right_new=left_new\n",
    "White_new=np.dot(np.dot(left_new, mid_new), right_new)\n",
    "std_err_white_new=[np.sqrt(White_new[i][i]) for i in range(X.shape[1])]\n",
    "\n",
    "print('beta_emd:',beta_emd, '\\n'\n",
    "      'std_err_emd:',std_err_white_new)"
   ]
  },
  {
   "cell_type": "code",
   "execution_count": 34,
   "metadata": {},
   "outputs": [
    {
     "name": "stdout",
     "output_type": "stream",
     "text": [
      "Wald: 0.66852632671 \n",
      " crit_value 3.84145882069 \n",
      " Fail to Reject \n",
      " p-value: 0.413565868842\n"
     ]
    }
   ],
   "source": [
    "# e)\n",
    "# construct the Wald statistics for the joint hypo\n",
    "R=np.array([0,1,1,1,0]).T\n",
    "left=np.dot(R.T, beta)-1\n",
    "mid=(np.dot(np.dot(R.T, White), R))**-1\n",
    "right=left\n",
    "Wald=np.dot(np.dot(left, mid), right)\n",
    "# get critical value and \n",
    "c=chi2.ppf(0.95, df=np.linalg.matrix_rank(R))\n",
    "print('Wald:', Wald, '\\n',\n",
    "      'crit_value', c, '\\n',\n",
    "['Fail to Reject','Reject'][Wald>c], '\\n',\n",
    "      'p-value:', 1-chi2.cdf(Wald, 1))"
   ]
  },
  {
   "cell_type": "code",
   "execution_count": null,
   "metadata": {
    "collapsed": true
   },
   "outputs": [],
   "source": []
  }
 ],
 "metadata": {
  "kernelspec": {
   "display_name": "Python 3",
   "language": "python",
   "name": "python3"
  },
  "language_info": {
   "codemirror_mode": {
    "name": "ipython",
    "version": 3
   },
   "file_extension": ".py",
   "mimetype": "text/x-python",
   "name": "python",
   "nbconvert_exporter": "python",
   "pygments_lexer": "ipython3",
   "version": "3.5.3"
  }
 },
 "nbformat": 4,
 "nbformat_minor": 2
}
