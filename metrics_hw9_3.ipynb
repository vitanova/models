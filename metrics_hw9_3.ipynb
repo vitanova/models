{
 "cells": [
  {
   "cell_type": "code",
   "execution_count": 5,
   "metadata": {
    "scrolled": true
   },
   "outputs": [],
   "source": [
    "import numpy as np\n",
    "import pandas as pd\n",
    "from scipy.stats import norm, chi2\n",
    "\n",
    "# import the table, rename columns\n",
    "col=['I', 'Q', 'C', 'D']\n",
    "df=pd.read_table('invest.txt', header=None, names=col)\n",
    "\n",
    "# create a column for constant 1\n",
    "df['one']=np.ones(df.shape[0])\n",
    "cols=np.append([co for co in col[1:]], 'one')\n",
    "\n",
    "# calculate OLS estimator\n",
    "X=df[cols]\n",
    "y=df['I']\n",
    "beta=np.dot(\n",
    "    np.linalg.inv(np.dot(X.T, X)), \n",
    "    np.dot(X.T, y))\n",
    "\n",
    "# get residual and its square\n",
    "def get_e_hat(row):\n",
    "    return row['I']-np.dot(row[cols].T, beta)\n",
    "df['res']=df.apply(get_e_hat, axis=1)\n",
    "df['e_hat_sqr']=df['res']**2\n",
    "\n",
    "# calculate std_error by white\n",
    "e_e=np.diag(df['e_hat_sqr'])\n",
    "left=np.linalg.inv(np.dot(X.T, X))\n",
    "mid=np.dot(np.dot(X.T, e_e), X)\n",
    "right=left\n",
    "White=np.dot(np.dot(left, mid), right)\n",
    "std_err_white=[np.sqrt(White[i][i]) for i in range(X.shape[1])]"
   ]
  },
  {
   "cell_type": "code",
   "execution_count": 6,
   "metadata": {},
   "outputs": [
    {
     "name": "stdout",
     "output_type": "stream",
     "text": [
      "beta: [-0.42128515  7.22930658  0.73638279  7.50992276] \n",
      "std_err: [0.28009623653862048, 1.6512910031464012, 0.38598096897689016, 0.39533874430485133]\n"
     ]
    }
   ],
   "source": [
    "# a)\n",
    "print('beta:',beta, '\\n'\n",
    "      'std_err:',std_err_white)"
   ]
  },
  {
   "cell_type": "code",
   "execution_count": 176,
   "metadata": {},
   "outputs": [
    {
     "data": {
      "text/plain": [
       "[[-0.97026368590078249, 0.12769338574103362],\n",
       " [3.992835681587811, 10.465777469911737],\n",
       " [-0.020126011225698459, 1.4928915845994548],\n",
       " [6.735073058227262, 8.2847724592888579]]"
      ]
     },
     "execution_count": 176,
     "metadata": {},
     "output_type": "execute_result"
    }
   ],
   "source": [
    "# b)\n",
    "# construct asymptotic interval for alpha=0.05\n",
    "c=norm.ppf(0.975)\n",
    "asym_con_int=[[beta[i]-c*std_err_white[i], beta[i]+c*std_err_white[i]] for i in range(X.shape[1])]\n",
    "asym_con_int"
   ]
  },
  {
   "cell_type": "code",
   "execution_count": 178,
   "metadata": {},
   "outputs": [
    {
     "name": "stdout",
     "output_type": "stream",
     "text": [
      "Wald: 24.1344723483 \n",
      " crit_value 5.99146454711 \n",
      " Reject \n",
      " p-value: 5.74468100345e-06\n"
     ]
    }
   ],
   "source": [
    "# c1)\n",
    "# construct the Wald statistics for the joint hypo\n",
    "R=np.array([[0, 1, 0, 0], [0, 0, 1, 0]]).T\n",
    "left=np.dot(R.T, beta)\n",
    "mid=np.linalg.inv(np.dot(np.dot(R.T, White), R))\n",
    "right=left\n",
    "Wald=np.dot(np.dot(left, mid), right)\n",
    "# get critical value and \n",
    "c=chi2.ppf(0.95, df=np.linalg.matrix_rank(R))\n",
    "print('Wald:', Wald, '\\n',\n",
    "      'crit_value', c, '\\n',\n",
    "['Fail to Reject','Reject'][Wald>c], '\\n',\n",
    "      'p-value:', 1-chi2.cdf(Wald, 2))"
   ]
  },
  {
   "cell_type": "code",
   "execution_count": 179,
   "metadata": {},
   "outputs": [
    {
     "name": "stdout",
     "output_type": "stream",
     "text": [
      "T: -1.50407286898 \n",
      " crit_value 1.95996398454 \n",
      " Fail to Reject \n",
      " p-value: 0.933718697399\n"
     ]
    }
   ],
   "source": [
    "# c2)\n",
    "# construct the T-statistics for the sinple hypo\n",
    "T=beta[0]/std_err_white[0]\n",
    "c=norm.ppf(0.975)\n",
    "print('T:', T, '\\n',\n",
    "      'crit_value', c, '\\n',\n",
    "['Fail to Reject','Reject'][T>c], '\\n',\n",
    "      'p-value:', 1-norm.cdf(T))"
   ]
  },
  {
   "cell_type": "code",
   "execution_count": 180,
   "metadata": {
    "collapsed": true
   },
   "outputs": [],
   "source": [
    "# d)\n",
    "# add new variables\n",
    "df['Q2']=df['Q']**2\n",
    "df['C2']=df['C']**2\n",
    "df['D2']=df['D']**2\n",
    "df['QC']=df['Q']*df['C']\n",
    "df['QD']=df['Q']*df['D']\n",
    "df['CD']=df['C']*df['D']\n",
    "\n",
    "# regression on all of them\n",
    "X=df[['Q', 'C', 'D', 'Q2', 'C2', 'D2', 'QC', 'QD', 'CD','one']]\n",
    "y=df['I']\n",
    "beta=np.dot(\n",
    "    np.linalg.inv(np.dot(X.T, X)), \n",
    "    np.dot(X.T, y))\n",
    "\n",
    "# get residual and its square\n",
    "def get_e_hat_new(row):\n",
    "    return row['I']-np.dot(np.transpose(row[['Q', 'C', 'D', 'Q2', 'C2', 'D2', 'QC', 'QD', 'CD','one']]), beta)\n",
    "df['res_new']=df.apply(get_e_hat_new, axis=1)\n",
    "df['e_hat_sqr_new']=df['res_new']**2\n",
    "\n",
    "# calculate std_error by white\n",
    "e_e=np.diag(df['e_hat_sqr_new'])\n",
    "left=np.linalg.inv(np.dot(X.T, X))\n",
    "mid=np.dot(np.dot(X.T, e_e), X)\n",
    "right=left\n",
    "White=np.dot(np.dot(left, mid), right)\n",
    "std_err_white=[np.sqrt(White[i][i]) for i in range(X.shape[1])]"
   ]
  },
  {
   "cell_type": "code",
   "execution_count": 181,
   "metadata": {},
   "outputs": [
    {
     "name": "stdout",
     "output_type": "stream",
     "text": [
      "Wald: 51.4963142371 \n",
      " crit_value 12.5915872437 \n",
      " Reject \n",
      " p-value: 2.35440822394e-09\n"
     ]
    }
   ],
   "source": [
    "# construct the Wald statistics for the joint hypo\n",
    "R=np.concatenate((np.zeros((6, 3)),np.identity(6), np.zeros((6, 1))), axis=1).T\n",
    "left=np.dot(R.T, beta)\n",
    "mid=np.linalg.inv(np.dot(np.dot(R.T, White), R))\n",
    "right=left\n",
    "Wald=np.dot(np.dot(left, mid), right)\n",
    "# get critical value and \n",
    "c=chi2.ppf(0.95, df=np.linalg.matrix_rank(R))\n",
    "print('Wald:', Wald, '\\n',\n",
    "      'crit_value', c, '\\n',\n",
    "['Fail to Reject','Reject'][Wald>c], '\\n',\n",
    "      'p-value:', 1-chi2.cdf(Wald, 6))"
   ]
  },
  {
   "cell_type": "code",
   "execution_count": null,
   "metadata": {
    "collapsed": true
   },
   "outputs": [],
   "source": []
  }
 ],
 "metadata": {
  "kernelspec": {
   "display_name": "Python 3",
   "language": "python",
   "name": "python3"
  },
  "language_info": {
   "codemirror_mode": {
    "name": "ipython",
    "version": 3
   },
   "file_extension": ".py",
   "mimetype": "text/x-python",
   "name": "python",
   "nbconvert_exporter": "python",
   "pygments_lexer": "ipython3",
   "version": "3.5.3"
  }
 },
 "nbformat": 4,
 "nbformat_minor": 2
}
