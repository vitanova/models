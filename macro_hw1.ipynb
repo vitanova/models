{
 "cells": [
  {
   "cell_type": "code",
   "execution_count": 6,
   "metadata": {},
   "outputs": [],
   "source": [
    "import numpy as np\n",
    "\n",
    "alpha=0.3 # capital share in production function\n",
    "beta=0.6 # discount rate\n",
    "A=20 # technology parameter in production function\n",
    "K_max=10 # maximum of capital\n",
    "grid=5 # numbers of grid points\n",
    "max_iter=200 # maximum of iteration\n",
    "tol=1e-4 # tolerance\n",
    "\n",
    "# interpolate capital uniformly to the grid points\n",
    "K=np.linspace(K_max, 0, grid, endpoint=False)[::-1]\n",
    "\n",
    "\n",
    "def bellman(v, grid, beta):\n",
    "    \"\"\"\n",
    "    bellman operator which transforms initial function v to Tv according to:\n",
    "    \n",
    "    Tv(k)=\\max _{k'} \\ln (A k^\\alpha - k') +\\beta* v(k')\n",
    "    \n",
    "    subject to:\n",
    "    0\\leq k' \\leq A k^\\alpha\n",
    "    and \n",
    "    k' \\in K\n",
    "    ------\n",
    "    parameters:\n",
    "    v(k): initial value function\n",
    "            ndarray, 1 \\times grid\n",
    "    grid: numbers of grids\n",
    "            integer\n",
    "    beta: discount factor\n",
    "            float(dtype=32), 0<beta<1\n",
    "    \n",
    "    output:\n",
    "    Tv(k): updated value function\n",
    "            ndarray, 1 \\times grid\n",
    "    k'(k): control variable associated with Tv\n",
    "            ndarray, 1 \\times grid\n",
    "    \"\"\"\n",
    "    # first, calculate the pseudo_v function:\n",
    "    # \\tilde v(k, k')=\\ln (A*k^\\alpha - k') +beta* v(k')\n",
    "    #with the constraint: \n",
    "    # 0\\leq k' \\leq A*k^\\alpha\n",
    "    pseudo_v=np.zeros([grid, grid])\n",
    "    for i in range(grid):\n",
    "        k_prime_max=A*K[i]**alpha\n",
    "        for j in range(grid):\n",
    "            if K[j]<k_prime_max:\n",
    "                pseudo_v[i, j]=np.log(A*K[i]**alpha-K[j])+beta*v[j]\n",
    "            else:\n",
    "                pseudo_v[i, j]=pseudo_v[i, j-1]\n",
    "    # next, maximize pseudo_v row by row to get Tv(k) and k'(k)\n",
    "    new_v=np.zeros(grid)\n",
    "    K_prime=np.zeros(grid)\n",
    "    K_prime_index=np.argmax(pseudo_v, axis=1)\n",
    "    for i in range(grid):\n",
    "        new_v[i]=max(pseudo_v[i])\n",
    "        K_prime[i]=K[K_prime_index[i]]\n",
    "    return new_v, K_prime\n",
    "\n",
    "def update(v, N, grid, beta):\n",
    "    \"\"\"\n",
    "    updates v according to the bellman operator for N times\n",
    "    ------\n",
    "    output:\n",
    "    V: series of value functions\n",
    "            ndarray, (N+1) \\times grid\n",
    "    K_p: series of control variables\n",
    "            ndarray, N \\times grid\n",
    "    \"\"\"\n",
    "    V=np.zeros([N+1, grid])\n",
    "    K_p=np.zeros([N, grid])\n",
    "    V[0]=v\n",
    "    for n in range(1, N+1):\n",
    "        V[n], K_p[n-1]=bellman(V[n-1], grid, beta)\n",
    "    return V, K_p\n",
    "\n",
    "def vfi(v, grid, beta):\n",
    "    \"\"\"\n",
    "    value function iteration until convergence or max_iter attained\n",
    "    ------\n",
    "    output:\n",
    "    n: numbers of iteration\n",
    "            integer\n",
    "    V[n]: optimal value function\n",
    "            ndarray, 1 \\times grid\n",
    "    K_p[n-1]: optimal policy function\n",
    "            ndarray, 1 \\times grid\n",
    "    \"\"\"\n",
    "    V_before=v\n",
    "    n=1\n",
    "    while n<=max_iter+1:\n",
    "        V_after, K_p=bellman(V_before, grid, beta)\n",
    "        if max(abs(V_before-V_after))<=tol:\n",
    "            return n, V_after, K_p\n",
    "            break\n",
    "        else:\n",
    "            V_before=V_after\n",
    "            n=n+1\n",
    "\n",
    "# saving the optimal results\n",
    "v_0=np.zeros(grid)\n",
    "n_iter, V_opt, K_prime_opt=vfi(v_0, grid, beta)\n",
    "sigma=[K, K_prime_opt]\n",
    "\n",
    "def next_k(k):\n",
    "    \"\"\"\n",
    "    calculate next period capital according to the optimal policy function\n",
    "    \"\"\"\n",
    "    return sigma[1][np.where(abs(K-k)<0.01)]\n",
    "\n",
    "def c_k_path(k, T):\n",
    "    \"\"\"\n",
    "    derive the time path for consumption and capital for T periods\n",
    "    \"\"\"\n",
    "    cc=np.zeros(T-1)\n",
    "    kk=np.zeros(T)\n",
    "    kk[0]=k\n",
    "    for t in range(1, T):\n",
    "        kk[t]=next_k(kk[t-1])\n",
    "        cc[t-1]=np.log(A*kk[t-1]**alpha-kk[t])\n",
    "    return cc, kk"
   ]
  },
  {
   "cell_type": "code",
   "execution_count": 7,
   "metadata": {},
   "outputs": [
    {
     "data": {
      "text/plain": [
       "(array([[ 0.        ,  0.        ,  0.        ,  0.        ,  0.        ],\n",
       "        [ 3.11896215,  3.34336808,  3.47306514,  3.56448674,  3.63508953],\n",
       "        [ 5.03242239,  5.27613456,  5.42441549,  5.52813809,  5.60740884],\n",
       "        [ 6.19208228,  6.44571524,  6.59522571,  6.6989483 ,  6.77965331]]),\n",
       " array([[ 2.,  2.,  2.,  2.,  2.],\n",
       "        [ 4.,  4.,  6.,  6.,  6.],\n",
       "        [ 4.,  6.,  6.,  6.,  8.]]))"
      ]
     },
     "execution_count": 7,
     "metadata": {},
     "output_type": "execute_result"
    }
   ],
   "source": [
    "#problem 4\n",
    "update(v=v_0, N=3, grid=5, beta=0.6)"
   ]
  },
  {
   "cell_type": "code",
   "execution_count": 5,
   "metadata": {
    "collapsed": true
   },
   "outputs": [],
   "source": [
    "z=update(v=v_0, N=3, grid=5, beta=0.6)[1]\n",
    "np.savetxt(\"p4_2.csv\", z, delimiter=\",\")"
   ]
  },
  {
   "cell_type": "code",
   "execution_count": 8,
   "metadata": {},
   "outputs": [
    {
     "data": {
      "text/plain": [
       "(22,\n",
       " array([ 7.94745286,  8.20182354,  8.35133401,  8.4550566 ,  8.53576161]),\n",
       " array([ 4.,  6.,  6.,  6.,  8.]))"
      ]
     },
     "execution_count": 8,
     "metadata": {},
     "output_type": "execute_result"
    }
   ],
   "source": [
    "#problem 5\n",
    "n_iter, V_opt, K_prime_opt"
   ]
  },
  {
   "cell_type": "code",
   "execution_count": 9,
   "metadata": {
    "collapsed": true
   },
   "outputs": [],
   "source": [
    "zz=np.asarray([K, V_opt, K_prime_opt])\n",
    "np.savetxt(\"p5.csv\", zz, delimiter=\",\")"
   ]
  },
  {
   "cell_type": "code",
   "execution_count": 106,
   "metadata": {
    "collapsed": true
   },
   "outputs": [],
   "source": [
    "#problem 6\n",
    "#change grid to 200\n",
    "grid=200\n",
    "beta=0.6\n",
    "K=np.linspace(K_max, 0, grid, endpoint=False)[::-1]\n",
    "v_0=np.zeros(grid)\n",
    "n_iter1, V_opt1, K_prime_opt1=vfi(v_0, grid, beta)\n",
    "sigma=[K, K_prime_opt1]\n",
    "time1=np.arange(100)\n",
    "c_path1, k_path1=c_k_path(7, 101)[0][0:100], c_k_path(7, 101)[1][0:100]"
   ]
  },
  {
   "cell_type": "code",
   "execution_count": 115,
   "metadata": {
    "collapsed": true
   },
   "outputs": [],
   "source": [
    "#problem 8\n",
    "#change grid to 200\n",
    "grid=200\n",
    "#change beta to 0.75\n",
    "beta=0.75\n",
    "K=np.linspace(K_max, 0, grid, endpoint=False)[::-1]\n",
    "v_0=np.zeros(grid)\n",
    "n_iter2, V_opt2, K_prime_opt2=vfi(v_0, grid, beta)\n",
    "sigma=[K, K_prime_opt2]\n",
    "time1=np.arange(100)\n",
    "c_path2, k_path2=c_k_path(7, 101)[0][0:100], c_k_path(7, 101)[1][0:100]"
   ]
  },
  {
   "cell_type": "code",
   "execution_count": 123,
   "metadata": {
    "collapsed": true
   },
   "outputs": [],
   "source": [
    "fig, ax=plt.subplots(2, 2, figsize=(7, 6))\n",
    "\n",
    "ax[0, 0].plot(K, V_opt1, label=r'$\\beta = 0.6$')\n",
    "ax[0, 0].plot(K, V_opt2, label=r'$\\beta = 0.75$', linestyle=':')\n",
    "ax[0, 0].grid()\n",
    "ax[0, 0].set_xlim(0, 9.99)\n",
    "ax[0, 0].set_xlabel(r'$k$', fontsize=11)\n",
    "ax[0, 0].set_ylabel(r'$\\nu (k)$', fontsize=11)\n",
    "ax[0, 0].legend(loc='lower right', fontsize=11)\n",
    "ax[0, 0].spines['right'].set_visible(False)\n",
    "ax[0, 0].spines['top'].set_visible(False)\n",
    "ax[0, 0].set_title('value functions', fontsize=12.5, position=[.5, 1.02])\n",
    "ax[0, 0].patch.set_facecolor('grey')\n",
    "ax[0, 0].patch.set_alpha(0.06)\n",
    "\n",
    "ax[0, 1].plot(K, K_prime_opt1, label=r'$\\beta = 0.6$')\n",
    "ax[0, 1].plot(K, K_prime_opt2, label=r'$\\beta = 0.75$', linestyle=':')\n",
    "ax[0, 1].grid()\n",
    "ax[0, 1].set_xlim(0, 9.99)\n",
    "ax[0, 1].set_xlabel(r'$k$', fontsize=11)\n",
    "ax[0, 1].set_ylabel(r'$k^{\\prime} (k)$', fontsize=11)\n",
    "ax[0, 1].legend(loc='lower right', fontsize=11)\n",
    "ax[0, 1].spines['right'].set_visible(False)\n",
    "ax[0, 1].spines['top'].set_visible(False)\n",
    "ax[0, 1].set_title('policy functions', fontsize=12.5, position=[.5, 1.02])\n",
    "ax[0, 1].patch.set_facecolor('grey')\n",
    "ax[0, 1].patch.set_alpha(0.06)\n",
    "\n",
    "ax[1, 0].plot(time1, c_path1, label=r'$\\beta = 0.6$')\n",
    "ax[1, 0].plot(time1, c_path2, label=r'$\\beta = 0.75$', linestyle=':')\n",
    "ax[1, 0].grid()\n",
    "ax[1, 0].set_xlim(0, 99)\n",
    "ax[1, 0].set_xlabel(r'$t$', fontsize=11)\n",
    "ax[1, 0].set_ylabel(r'$c_t$', fontsize=11)\n",
    "ax[1, 0].legend(loc='lower right', fontsize=11)\n",
    "ax[1, 0].spines['right'].set_visible(False)\n",
    "ax[1, 0].spines['top'].set_visible(False)\n",
    "ax[1, 0].set_title('consumption', fontsize=12.5, position=[.5, 1.02])\n",
    "ax[1, 0].patch.set_facecolor('grey')\n",
    "ax[1, 0].patch.set_alpha(0.06)\n",
    "\n",
    "ax[1, 1].plot(time1, k_path1, label=r'$\\beta = 0.6$')\n",
    "ax[1, 1].plot(time1, k_path2, label=r'$\\beta = 0.75$', linestyle=':')\n",
    "ax[1, 1].grid()\n",
    "ax[1, 1].set_xlim(0, 99)\n",
    "ax[1, 1].set_xlabel(r'$t$', fontsize=11)\n",
    "ax[1, 1].set_ylabel(r'$k_t$', fontsize=11)\n",
    "ax[1, 1].legend(loc='lower right', fontsize=11)\n",
    "ax[1, 1].spines['right'].set_visible(False)\n",
    "ax[1, 1].spines['top'].set_visible(False)\n",
    "ax[1, 1].set_title('capital', fontsize=12.5, position=[.5, 1.02])\n",
    "ax[1, 1].patch.set_facecolor('grey')\n",
    "ax[1, 1].patch.set_alpha(0.06)\n",
    "\n",
    "plt.tight_layout()\n",
    "plt.savefig('p8.pgf', dpi=300)"
   ]
  },
  {
   "cell_type": "code",
   "execution_count": 109,
   "metadata": {
    "collapsed": true,
    "scrolled": true
   },
   "outputs": [],
   "source": [
    "beta=0.6\n",
    "def v_star(k):\n",
    "    a_1=alpha/(1-alpha*beta)\n",
    "    temp1=np.log(A)+alpha*beta*np.log(alpha*beta)+(1-alpha*beta)*np.log(1-alpha*beta)\n",
    "    temp2=(1-alpha*beta)*(1-beta)\n",
    "    a_0=temp1/temp2\n",
    "    return a_0+a_1*np.log(k)\n",
    "\n",
    "def k_prime_star(k):\n",
    "    a_1=alpha/(1-alpha*beta)\n",
    "    return k**alpha *A*beta*a_1/(1+beta*a_1)\n",
    "\n",
    "v_true=np.zeros(grid)\n",
    "k_prime_true=np.zeros(grid)\n",
    "for i, k in enumerate(K):\n",
    "    v_true[i]=v_star(k)\n",
    "    k_prime_true[i]=k_prime_star(k)\n",
    "\n",
    "v_true1, k_prime_true1 = v_true, k_prime_true"
   ]
  },
  {
   "cell_type": "code",
   "execution_count": 110,
   "metadata": {
    "collapsed": true
   },
   "outputs": [],
   "source": [
    "beta=0.75\n",
    "def v_star(k):\n",
    "    a_1=alpha/(1-alpha*beta)\n",
    "    temp1=np.log(A)+alpha*beta*np.log(alpha*beta)+(1-alpha*beta)*np.log(1-alpha*beta)\n",
    "    temp2=(1-alpha*beta)*(1-beta)\n",
    "    a_0=temp1/temp2\n",
    "    return a_0+a_1*np.log(k)\n",
    "\n",
    "def k_prime_star(k):\n",
    "    a_1=alpha/(1-alpha*beta)\n",
    "    return k**alpha *A*beta*a_1/(1+beta*a_1)\n",
    "\n",
    "v_true=np.zeros(grid)\n",
    "k_prime_true=np.zeros(grid)\n",
    "for i, k in enumerate(K):\n",
    "    v_true[i]=v_star(k)\n",
    "    k_prime_true[i]=k_prime_star(k)\n",
    "\n",
    "v_true2, k_prime_true2 = v_true, k_prime_true"
   ]
  },
  {
   "cell_type": "code",
   "execution_count": 102,
   "metadata": {
    "collapsed": true
   },
   "outputs": [],
   "source": [
    "import matplotlib.pyplot as plt\n",
    "fig, ax=plt.subplots(figsize=(5, 3))\n",
    "ax.plot(K, v_true, color='red', lw=4, label=r'$\\nu ^* (k)$'+': true value', linestyle=':', alpha=1)\n",
    "ax.scatter(K, V_opt, color='blue', alpha=0.4,marker='o', s=12.5, label=r'$\\nu _{\\infty} (k)$'+': numerical result')\n",
    "\n",
    "ax.grid()\n",
    "ax.set_xlim(0, 9.99)\n",
    "ax.set_ylim(6.5, 8.75)\n",
    "ax.set_xlabel(r'$k$', fontsize=11)\n",
    "ax.set_ylabel(r'$\\nu (k)$', fontsize=11)\n",
    "ax.legend(loc='lower right', fontsize=11)\n",
    "ax.spines['right'].set_visible(False)\n",
    "ax.spines['top'].set_visible(False)\n",
    "ax.set_title('value functions when '+ r'$\\alpha=0.3, \\beta = 0.6$', fontsize=12, position=[.5, 1.02])\n",
    "ax.patch.set_facecolor('grey')\n",
    "ax.patch.set_alpha(0.06)\n",
    "plt.savefig('p6.pgf', dpi=300)"
   ]
  },
  {
   "cell_type": "code",
   "execution_count": 105,
   "metadata": {
    "collapsed": true
   },
   "outputs": [],
   "source": [
    "import matplotlib.pyplot as plt\n",
    "fig, ax=plt.subplots(figsize=(5, 3))\n",
    "ax.plot(K, k_prime_true, color='red', lw=4, label=r'$k^{\\prime *} (k)$'+': true value', linestyle=':', alpha=1)\n",
    "ax.scatter(K, K_prime_opt, color='blue', alpha=0.4,marker='o', s=12.5, label=r'$k^{\\prime} _{\\infty} (k)$'+': numerical result')\n",
    "\n",
    "ax.grid()\n",
    "ax.set_xlim(0, 9.99)\n",
    "ax.set_xlabel(r'$k$', fontsize=11)\n",
    "ax.set_ylabel(r'$k^{\\prime} (k)$' , fontsize=11)\n",
    "ax.legend(loc='lower right', fontsize=11)\n",
    "ax.spines['right'].set_visible(False)\n",
    "ax.spines['top'].set_visible(False)\n",
    "ax.set_title('policy functions when '+ r'$\\alpha=0.3, \\beta = 0.6$', fontsize=12, position=[.5, 1.02])\n",
    "ax.patch.set_facecolor('grey')\n",
    "ax.patch.set_alpha(0.06)\n",
    "plt.savefig('p61.pgf', dpi=300)"
   ]
  },
  {
   "cell_type": "code",
   "execution_count": 21,
   "metadata": {},
   "outputs": [
    {
     "data": {
      "text/plain": [
       "(100,)"
      ]
     },
     "execution_count": 21,
     "metadata": {},
     "output_type": "execute_result"
    }
   ],
   "source": [
    "np.shape(c_k_path(7, 101)[0][0:100])"
   ]
  },
  {
   "cell_type": "code",
   "execution_count": 22,
   "metadata": {
    "collapsed": true
   },
   "outputs": [],
   "source": [
    "time1=np.arange(100)\n",
    "p77, p78=c_k_path(7, 101)[0][0:100], c_k_path(7, 101)[1][0:100]\n",
    "ok=np.asarray([time1, p77, p78])\n",
    "np.savetxt(\"p7.csv\", ok, delimiter=\",\")"
   ]
  },
  {
   "cell_type": "code",
   "execution_count": 23,
   "metadata": {},
   "outputs": [
    {
     "data": {
      "text/plain": [
       "(array([ 3.38119191,  3.35641936,  3.34955974,  3.34664412,  3.34664412,\n",
       "         3.34664412,  3.34664412,  3.34664412,  3.34664412,  3.34664412,\n",
       "         3.34664412,  3.34664412,  3.34664412,  3.34664412,  3.34664412,\n",
       "         3.34664412,  3.34664412,  3.34664412,  3.34664412,  3.34664412,\n",
       "         3.34664412,  3.34664412,  3.34664412,  3.34664412,  3.34664412,\n",
       "         3.34664412,  3.34664412,  3.34664412,  3.34664412,  3.34664412,\n",
       "         3.34664412,  3.34664412,  3.34664412,  3.34664412,  3.34664412,\n",
       "         3.34664412,  3.34664412,  3.34664412,  3.34664412,  3.34664412,\n",
       "         3.34664412,  3.34664412,  3.34664412,  3.34664412,  3.34664412,\n",
       "         3.34664412,  3.34664412,  3.34664412,  3.34664412,  3.34664412,\n",
       "         3.34664412,  3.34664412,  3.34664412,  3.34664412,  3.34664412,\n",
       "         3.34664412,  3.34664412,  3.34664412,  3.34664412,  3.34664412,\n",
       "         3.34664412,  3.34664412,  3.34664412,  3.34664412,  3.34664412,\n",
       "         3.34664412,  3.34664412,  3.34664412,  3.34664412,  3.34664412,\n",
       "         3.34664412,  3.34664412,  3.34664412,  3.34664412,  3.34664412,\n",
       "         3.34664412,  3.34664412,  3.34664412,  3.34664412,  3.34664412,\n",
       "         3.34664412,  3.34664412,  3.34664412,  3.34664412,  3.34664412,\n",
       "         3.34664412,  3.34664412,  3.34664412,  3.34664412,  3.34664412,\n",
       "         3.34664412,  3.34664412,  3.34664412,  3.34664412,  3.34664412,\n",
       "         3.34664412,  3.34664412,  3.34664412,  3.34664412,  3.34664412]),\n",
       " array([ 7.  ,  6.45,  6.3 ,  6.25,  6.25,  6.25,  6.25,  6.25,  6.25,\n",
       "         6.25,  6.25,  6.25,  6.25,  6.25,  6.25,  6.25,  6.25,  6.25,\n",
       "         6.25,  6.25,  6.25,  6.25,  6.25,  6.25,  6.25,  6.25,  6.25,\n",
       "         6.25,  6.25,  6.25,  6.25,  6.25,  6.25,  6.25,  6.25,  6.25,\n",
       "         6.25,  6.25,  6.25,  6.25,  6.25,  6.25,  6.25,  6.25,  6.25,\n",
       "         6.25,  6.25,  6.25,  6.25,  6.25,  6.25,  6.25,  6.25,  6.25,\n",
       "         6.25,  6.25,  6.25,  6.25,  6.25,  6.25,  6.25,  6.25,  6.25,\n",
       "         6.25,  6.25,  6.25,  6.25,  6.25,  6.25,  6.25,  6.25,  6.25,\n",
       "         6.25,  6.25,  6.25,  6.25,  6.25,  6.25,  6.25,  6.25,  6.25,\n",
       "         6.25,  6.25,  6.25,  6.25,  6.25,  6.25,  6.25,  6.25,  6.25,\n",
       "         6.25,  6.25,  6.25,  6.25,  6.25,  6.25,  6.25,  6.25,  6.25,\n",
       "         6.25,  6.25]))"
      ]
     },
     "execution_count": 23,
     "metadata": {},
     "output_type": "execute_result"
    }
   ],
   "source": [
    "#problem 7\n",
    "c_k_path(7, 101)"
   ]
  },
  {
   "cell_type": "code",
   "execution_count": 14,
   "metadata": {},
   "outputs": [
    {
     "data": {
      "text/plain": [
       "array([ 0,  1,  2,  3,  4,  5,  6,  7,  8,  9, 10, 11, 12, 13, 14, 15, 16,\n",
       "       17, 18, 19, 20, 21, 22, 23, 24, 25, 26, 27, 28, 29, 30, 31, 32, 33,\n",
       "       34, 35, 36, 37, 38, 39, 40, 41, 42, 43, 44, 45, 46, 47, 48, 49, 50,\n",
       "       51, 52, 53, 54, 55, 56, 57, 58, 59, 60, 61, 62, 63, 64, 65, 66, 67,\n",
       "       68, 69, 70, 71, 72, 73, 74, 75, 76, 77, 78, 79, 80, 81, 82, 83, 84,\n",
       "       85, 86, 87, 88, 89, 90, 91, 92, 93, 94, 95, 96, 97, 98, 99])"
      ]
     },
     "execution_count": 14,
     "metadata": {},
     "output_type": "execute_result"
    }
   ],
   "source": [
    "time1=np.arange(100)\n",
    "time1"
   ]
  },
  {
   "cell_type": "code",
   "execution_count": 24,
   "metadata": {
    "collapsed": true
   },
   "outputs": [],
   "source": [
    "#problem 8\n",
    "#change beta to 0.75\n",
    "beta=0.75\n",
    "K=np.linspace(K_max, 0, grid, endpoint=False)[::-1]\n",
    "v_0=np.zeros(grid)\n",
    "n_iter, V_opt, K_prime_opt=vfi(v_0, grid, beta)\n",
    "sigma=[K, K_prime_opt]\n",
    "\n",
    "xxx=np.asarray([K, V_opt, K_prime_opt])\n",
    "np.savetxt(\"p81.csv\", xxx, delimiter=\",\")"
   ]
  },
  {
   "cell_type": "code",
   "execution_count": 25,
   "metadata": {
    "collapsed": true
   },
   "outputs": [],
   "source": [
    "time1=np.arange(100)\n",
    "p887, p888=c_k_path(7, 101)[0][0:100], c_k_path(7, 101)[1][0:100]\n",
    "okk=np.asarray([time1, p887, p888])\n",
    "np.savetxt(\"p80.csv\", okk, delimiter=\",\")"
   ]
  },
  {
   "cell_type": "code",
   "execution_count": 20,
   "metadata": {},
   "outputs": [
    {
     "data": {
      "text/plain": [
       "(array([ 3.32524461,  3.36699042,  3.3800286 ,  3.38290805,  3.38517773,\n",
       "         3.38517773,  3.38517773,  3.38517773,  3.38517773,  3.38517773,\n",
       "         3.38517773,  3.38517773,  3.38517773,  3.38517773,  3.38517773,\n",
       "         3.38517773,  3.38517773,  3.38517773,  3.38517773,  3.38517773,\n",
       "         3.38517773,  3.38517773,  3.38517773,  3.38517773,  3.38517773,\n",
       "         3.38517773,  3.38517773,  3.38517773,  3.38517773,  3.38517773,\n",
       "         3.38517773,  3.38517773,  3.38517773,  3.38517773,  3.38517773,\n",
       "         3.38517773,  3.38517773,  3.38517773,  3.38517773,  3.38517773,\n",
       "         3.38517773,  3.38517773,  3.38517773,  3.38517773,  3.38517773,\n",
       "         3.38517773,  3.38517773,  3.38517773,  3.38517773,  3.38517773,\n",
       "         3.38517773,  3.38517773,  3.38517773,  3.38517773,  3.38517773,\n",
       "         3.38517773,  3.38517773,  3.38517773,  3.38517773,  3.38517773,\n",
       "         3.38517773,  3.38517773,  3.38517773,  3.38517773,  3.38517773,\n",
       "         3.38517773,  3.38517773,  3.38517773,  3.38517773,  3.38517773,\n",
       "         3.38517773,  3.38517773,  3.38517773,  3.38517773,  3.38517773,\n",
       "         3.38517773,  3.38517773,  3.38517773,  3.38517773,  3.38517773,\n",
       "         3.38517773,  3.38517773,  3.38517773,  3.38517773,  3.38517773,\n",
       "         3.38517773,  3.38517773,  3.38517773,  3.38517773,  3.38517773,\n",
       "         3.38517773,  3.38517773,  3.38517773,  3.38517773,  3.38517773,\n",
       "         3.38517773,  3.38517773,  3.38517773,  3.38517773]),\n",
       " array([ 7.  ,  8.05,  8.4 ,  8.5 ,  8.55,  8.55,  8.55,  8.55,  8.55,\n",
       "         8.55,  8.55,  8.55,  8.55,  8.55,  8.55,  8.55,  8.55,  8.55,\n",
       "         8.55,  8.55,  8.55,  8.55,  8.55,  8.55,  8.55,  8.55,  8.55,\n",
       "         8.55,  8.55,  8.55,  8.55,  8.55,  8.55,  8.55,  8.55,  8.55,\n",
       "         8.55,  8.55,  8.55,  8.55,  8.55,  8.55,  8.55,  8.55,  8.55,\n",
       "         8.55,  8.55,  8.55,  8.55,  8.55,  8.55,  8.55,  8.55,  8.55,\n",
       "         8.55,  8.55,  8.55,  8.55,  8.55,  8.55,  8.55,  8.55,  8.55,\n",
       "         8.55,  8.55,  8.55,  8.55,  8.55,  8.55,  8.55,  8.55,  8.55,\n",
       "         8.55,  8.55,  8.55,  8.55,  8.55,  8.55,  8.55,  8.55,  8.55,\n",
       "         8.55,  8.55,  8.55,  8.55,  8.55,  8.55,  8.55,  8.55,  8.55,\n",
       "         8.55,  8.55,  8.55,  8.55,  8.55,  8.55,  8.55,  8.55,  8.55,  8.55]))"
      ]
     },
     "execution_count": 20,
     "metadata": {},
     "output_type": "execute_result"
    }
   ],
   "source": [
    "#finally, the time path\n",
    "c_k_path(7, 100)"
   ]
  },
  {
   "cell_type": "code",
   "execution_count": null,
   "metadata": {
    "collapsed": true
   },
   "outputs": [],
   "source": []
  }
 ],
 "metadata": {
  "kernelspec": {
   "display_name": "Python 3",
   "language": "python",
   "name": "python3"
  },
  "language_info": {
   "codemirror_mode": {
    "name": "ipython",
    "version": 3
   },
   "file_extension": ".py",
   "mimetype": "text/x-python",
   "name": "python",
   "nbconvert_exporter": "python",
   "pygments_lexer": "ipython3",
   "version": "3.5.3"
  }
 },
 "nbformat": 4,
 "nbformat_minor": 2
}
