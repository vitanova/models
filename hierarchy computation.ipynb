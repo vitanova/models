{
 "cells": [
  {
   "cell_type": "code",
   "execution_count": 39,
   "metadata": {
    "collapsed": false
   },
   "outputs": [
    {
     "data": {
      "text/plain": [
       "array([ 2.4607902])"
      ]
     },
     "execution_count": 39,
     "metadata": {},
     "output_type": "execute_result"
    }
   ],
   "source": [
    "%matplotlib inline\n",
    "\"\"\"\n",
    "compute the hierarchial organization of production\n",
    "originated by Garicano2000, Garicano2004, 2008, Antras et al.,2006\n",
    "here we follow the assumption in Caicedo et al.2016: \n",
    "learning, career paths, and the distribution of wage, NBER\n",
    "\n",
    "input:\n",
    "knowledge distribution F, with density f\n",
    "problem distribution G, with density g\n",
    "review capacity: kappa\n",
    "output:\n",
    "upper and lower cutoff z_e and z_w\n",
    "matching function phi\n",
    "\"\"\"\n",
    "import numpy as np\n",
    "import scipy.integrate as integrate\n",
    "from scipy.stats import pareto\n",
    "from scipy.optimize import fsolve\n",
    "import matplotlib.pyplot as plt\n",
    "b1=1.2\n",
    "b2=1.3\n",
    "G=pareto(b1)\n",
    "F=pareto(b2)\n",
    "kappa=1.5\n",
    "def equation(z_w):\n",
    "    temp, error=integrate.quad(lambda z: (1-G.cdf(z))*F.pdf(z), 0, z_w)\n",
    "    return temp/kappa+F.cdf(z_w)-1\n",
    "z_w1=fsolve(equation, 2)\n",
    "\n",
    "z_w1"
   ]
  },
  {
   "cell_type": "code",
   "execution_count": 48,
   "metadata": {
    "collapsed": false
   },
   "outputs": [
    {
     "data": {
      "text/plain": [
       "5.0846664174763019"
      ]
     },
     "execution_count": 48,
     "metadata": {},
     "output_type": "execute_result"
    }
   ],
   "source": [
    "z_w=2\n",
    "def phi1(y):\n",
    "    temp, error=integrate.quad(lambda z: (1-G.cdf(z))*F.pdf(z), 0, y)\n",
    "    return F.ppf(temp/kappa+F.cdf(z_w))\n",
    "def inversephi1(zz):\n",
    "    return fsolve(lambda z: phi1(z)-zz, 2)\n",
    "def equations(z_e):\n",
    "    temp, error=integrate.quad(lambda z: (1-G.cdf(z))*F.pdf(z)/(1-G.cdf(inversephi1(z))), z_w, z_e)\n",
    "    temp1, error1=integrate.quad(lambda z: (1-G.cdf(z))*F.pdf(z), 0, z_w)\n",
    "    return temp1/kappa+temp+F.cdf(z_w)-1\n",
    "phi1(2)"
   ]
  },
  {
   "cell_type": "code",
   "execution_count": null,
   "metadata": {
    "collapsed": true
   },
   "outputs": [],
   "source": [
    "fig, ax=plt.subplots()\n",
    "zgrid=np.linspace(1, 5, 100)\n",
    "ax.plot(zgrid, phi(2)(zgrid), lw=2, alpha=0.6, label=\"matching function\")\n",
    "ax.legend()\n",
    "plt.show()"
   ]
  }
 ],
 "metadata": {
  "kernelspec": {
   "display_name": "Python 3",
   "language": "python",
   "name": "python3"
  },
  "language_info": {
   "codemirror_mode": {
    "name": "ipython",
    "version": 3
   },
   "file_extension": ".py",
   "mimetype": "text/x-python",
   "name": "python",
   "nbconvert_exporter": "python",
   "pygments_lexer": "ipython3",
   "version": "3.5.1"
  }
 },
 "nbformat": 4,
 "nbformat_minor": 0
}
